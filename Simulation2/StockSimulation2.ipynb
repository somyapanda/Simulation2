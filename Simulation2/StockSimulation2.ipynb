{
 "cells": [
  {
   "cell_type": "code",
   "execution_count": 26,
   "metadata": {},
   "outputs": [],
   "source": [
    "# Initial imports\n",
    "import os\n",
    "import pandas as pd\n",
    "from dotenv import load_dotenv\n",
    "import alpaca_trade_api as tradeapi\n",
    "\n",
    "%matplotlib inline"
   ]
  },
  {
   "cell_type": "code",
   "execution_count": 27,
   "metadata": {},
   "outputs": [
    {
     "data": {
      "text/plain": [
       "True"
      ]
     },
     "execution_count": 27,
     "metadata": {},
     "output_type": "execute_result"
    }
   ],
   "source": [
    "# Load .env environment variables\n",
    "load_dotenv(\"paper.env\")"
   ]
  },
  {
   "cell_type": "code",
   "execution_count": 28,
   "metadata": {},
   "outputs": [],
   "source": [
    "# Set Alpaca API key and secret\n",
    "alpaca_api_key = os.getenv(\"APCA_API_KEY\")\n",
    "alpaca_secret_key = os.getenv(\"APCA_SECRET_KEY\")"
   ]
  },
  {
   "cell_type": "code",
   "execution_count": 45,
   "metadata": {},
   "outputs": [
    {
     "data": {
      "text/plain": [
       "str"
      ]
     },
     "execution_count": 45,
     "metadata": {},
     "output_type": "execute_result"
    }
   ],
   "source": [
    "type(alpaca_api_key)"
   ]
  },
  {
   "cell_type": "code",
   "execution_count": 46,
   "metadata": {},
   "outputs": [
    {
     "data": {
      "text/plain": [
       "str"
      ]
     },
     "execution_count": 46,
     "metadata": {},
     "output_type": "execute_result"
    }
   ],
   "source": [
    "type(alpaca_secret_key)"
   ]
  },
  {
   "cell_type": "code",
   "execution_count": 31,
   "metadata": {},
   "outputs": [
    {
     "name": "stdout",
     "output_type": "stream",
     "text": [
      "Key type: <class 'str'>\n",
      "Secret type: <class 'str'>\n"
     ]
    }
   ],
   "source": [
    "# Verify that Alpaca key and secret were correctly loaded\n",
    "print(f\"Key type: {type(alpaca_api_key)}\")\n",
    "print(f\"Secret type: {type(alpaca_api_key)}\")"
   ]
  },
  {
   "cell_type": "code",
   "execution_count": 32,
   "metadata": {},
   "outputs": [
    {
     "name": "stdout",
     "output_type": "stream",
     "text": [
      "https://paper-api.alpaca.markets\n"
     ]
    }
   ],
   "source": [
    "print(os.getenv(\"APCA_API_BASE_URL\"))"
   ]
  },
  {
   "cell_type": "code",
   "execution_count": 33,
   "metadata": {},
   "outputs": [],
   "source": [
    "# If parameters are formatted according to paper.env, then no need to pass any variables when creating\n",
    "# the Alpaca trading object!\n",
    "alpaca = tradeapi.REST(\n",
    "    alpaca_api_key,\n",
    "    alpaca_secret_key\n",
    ")"
   ]
  },
  {
   "cell_type": "code",
   "execution_count": 34,
   "metadata": {},
   "outputs": [
    {
     "name": "stdout",
     "output_type": "stream",
     "text": [
      "My account has $100000 available with a portfolio value of $100000\n"
     ]
    }
   ],
   "source": [
    "def my_account():\n",
    "    my_account = alpaca.get_account()\n",
    "    return(my_account)\n",
    "\n",
    "my_account = my_account()\n",
    "print(f\"My account has ${my_account.cash} available with a portfolio value of ${my_account.portfolio_value}\")"
   ]
  },
  {
   "cell_type": "code",
   "execution_count": 35,
   "metadata": {},
   "outputs": [
    {
     "name": "stdout",
     "output_type": "stream",
     "text": [
      "[]\n"
     ]
    }
   ],
   "source": [
    "def my_positions():\n",
    "    positions = alpaca.list_positions()\n",
    "    return positions\n",
    "\n",
    "print(my_positions())"
   ]
  },
  {
   "cell_type": "code",
   "execution_count": 42,
   "metadata": {},
   "outputs": [],
   "source": [
    "def market_buy(stock, qty, side='buy'):\n",
    "    order = alpaca.submit_order(stock, qty, side, \"market\", \"day\")\n",
    "    return order.id\n",
    "\n",
    "    \n",
    "my_order = market_buy(\"BIOL\", 20)"
   ]
  },
  {
   "cell_type": "code",
   "execution_count": 43,
   "metadata": {},
   "outputs": [
    {
     "name": "stdout",
     "output_type": "stream",
     "text": [
      "Order 992fea3f-ff38-44bd-9fb0-929879b40619 to buy 20 of BIOL\n",
      "Order a3782c57-b9a9-4890-ad7b-be4bc0ea4d11 to buy 50 of UTHR\n",
      "Order 5e7b80ad-1349-46bc-86d1-29b618c9bd6c to buy 50 of Z\n",
      "Order c21613ca-76ca-478f-815e-a7dae765384d to buy 200 of TSLA\n",
      "Order 6aaada8e-bc7d-444b-b475-4295db65fb73 to buy 150 of AAPL\n"
     ]
    }
   ],
   "source": [
    "def my_orders():\n",
    "    return alpaca.list_orders(status='open')\n",
    "\n",
    "def show_open_orders():\n",
    "    for order in my_orders():\n",
    "        print(f\"Order {order.id} to {order.side} {order.qty} of {order.symbol}\")\n",
    "        \n",
    "show_open_orders()"
   ]
  },
  {
   "cell_type": "code",
   "execution_count": 13,
   "metadata": {},
   "outputs": [
    {
     "name": "stdout",
     "output_type": "stream",
     "text": [
      "None\n"
     ]
    }
   ],
   "source": [
    "def cancel_order(id):\n",
    "    return(alpaca.cancel_order(id))\n",
    "\n",
    "print(cancel_order(my_order))"
   ]
  },
  {
   "cell_type": "code",
   "execution_count": 44,
   "metadata": {},
   "outputs": [
    {
     "name": "stdout",
     "output_type": "stream",
     "text": [
      "Order 992fea3f-ff38-44bd-9fb0-929879b40619 to buy 20 of BIOL\n",
      "Order a3782c57-b9a9-4890-ad7b-be4bc0ea4d11 to buy 50 of UTHR\n",
      "Order 5e7b80ad-1349-46bc-86d1-29b618c9bd6c to buy 50 of Z\n",
      "Order c21613ca-76ca-478f-815e-a7dae765384d to buy 200 of TSLA\n",
      "Order 6aaada8e-bc7d-444b-b475-4295db65fb73 to buy 150 of AAPL\n"
     ]
    }
   ],
   "source": [
    "show_open_orders()"
   ]
  },
  {
   "cell_type": "code",
   "execution_count": null,
   "metadata": {},
   "outputs": [],
   "source": []
  }
 ],
 "metadata": {
  "kernelspec": {
   "display_name": "Python 3",
   "language": "python",
   "name": "python3"
  },
  "language_info": {
   "codemirror_mode": {
    "name": "ipython",
    "version": 3
   },
   "file_extension": ".py",
   "mimetype": "text/x-python",
   "name": "python",
   "nbconvert_exporter": "python",
   "pygments_lexer": "ipython3",
   "version": "3.7.9"
  }
 },
 "nbformat": 4,
 "nbformat_minor": 4
}
